{
  "nbformat": 4,
  "nbformat_minor": 0,
  "metadata": {
    "colab": {
      "provenance": [],
      "authorship_tag": "ABX9TyO1TAKeGhjKw5AxLq9yDuwT",
      "include_colab_link": true
    },
    "kernelspec": {
      "name": "python3",
      "display_name": "Python 3"
    },
    "language_info": {
      "name": "python"
    }
  },
  "cells": [
    {
      "cell_type": "markdown",
      "metadata": {
        "id": "view-in-github",
        "colab_type": "text"
      },
      "source": [
        "<a href=\"https://colab.research.google.com/github/TheyCallMePrem/CS680-revised/blob/main/Team_2.ipynb\" target=\"_parent\"><img src=\"https://colab.research.google.com/assets/colab-badge.svg\" alt=\"Open In Colab\"/></a>"
      ]
    },
    {
      "cell_type": "markdown",
      "source": [
        "## PHASE 1"
      ],
      "metadata": {
        "id": "Tz5eHczlE2xy"
      }
    },
    {
      "cell_type": "markdown",
      "source": [
        "#### Atharva Khadgi\n",
        "#### Prem Desai (Lead)\n",
        "#### Rounak Burman\n",
        "#### Yixin Li\n"
      ],
      "metadata": {
        "id": "5xGTh_mxFO9z"
      }
    },
    {
      "cell_type": "code",
      "source": [],
      "metadata": {
        "id": "iDlGPoE2Fz8R"
      },
      "execution_count": null,
      "outputs": []
    }
  ]
}